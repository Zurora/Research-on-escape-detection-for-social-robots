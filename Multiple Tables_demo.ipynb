{
 "cells": [
  {
   "cell_type": "markdown",
   "id": "f4d727f9",
   "metadata": {},
   "source": [
    "## Loading data"
   ]
  },
  {
   "cell_type": "code",
   "execution_count": 1,
   "id": "5f4d81e5",
   "metadata": {},
   "outputs": [],
   "source": [
    "from sdv.datasets.demo import download_demo\n",
    "\n",
    "real_data, metadata = download_demo(\n",
    "        modality='multi_table',\n",
    "        dataset_name='fake_hotels'\n",
    ")"
   ]
  },
  {
   "cell_type": "code",
   "execution_count": 2,
   "id": "32eff9f1",
   "metadata": {},
   "outputs": [
    {
     "data": {
      "text/html": [
       "<div>\n",
       "<style scoped>\n",
       "    .dataframe tbody tr th:only-of-type {\n",
       "        vertical-align: middle;\n",
       "    }\n",
       "\n",
       "    .dataframe tbody tr th {\n",
       "        vertical-align: top;\n",
       "    }\n",
       "\n",
       "    .dataframe thead th {\n",
       "        text-align: right;\n",
       "    }\n",
       "</style>\n",
       "<table border=\"1\" class=\"dataframe\">\n",
       "  <thead>\n",
       "    <tr style=\"text-align: right;\">\n",
       "      <th></th>\n",
       "      <th>hotel_id</th>\n",
       "      <th>city</th>\n",
       "      <th>state</th>\n",
       "      <th>rating</th>\n",
       "      <th>classification</th>\n",
       "    </tr>\n",
       "  </thead>\n",
       "  <tbody>\n",
       "    <tr>\n",
       "      <th>0</th>\n",
       "      <td>HID_000</td>\n",
       "      <td>Boston</td>\n",
       "      <td>Massachusetts</td>\n",
       "      <td>4.8</td>\n",
       "      <td>RESORT</td>\n",
       "    </tr>\n",
       "    <tr>\n",
       "      <th>1</th>\n",
       "      <td>HID_001</td>\n",
       "      <td>Boston</td>\n",
       "      <td>Massachuesetts</td>\n",
       "      <td>4.1</td>\n",
       "      <td>CHAIN</td>\n",
       "    </tr>\n",
       "    <tr>\n",
       "      <th>2</th>\n",
       "      <td>HID_002</td>\n",
       "      <td>San Francisco</td>\n",
       "      <td>California</td>\n",
       "      <td>3.8</td>\n",
       "      <td>MOTEL</td>\n",
       "    </tr>\n",
       "    <tr>\n",
       "      <th>3</th>\n",
       "      <td>HID_003</td>\n",
       "      <td>San Francisco</td>\n",
       "      <td>California</td>\n",
       "      <td>4.0</td>\n",
       "      <td>CHAIN</td>\n",
       "    </tr>\n",
       "    <tr>\n",
       "      <th>4</th>\n",
       "      <td>HID_004</td>\n",
       "      <td>New York City</td>\n",
       "      <td>New York</td>\n",
       "      <td>3.7</td>\n",
       "      <td>MOTEL</td>\n",
       "    </tr>\n",
       "  </tbody>\n",
       "</table>\n",
       "</div>"
      ],
      "text/plain": [
       "  hotel_id           city           state  rating classification\n",
       "0  HID_000         Boston   Massachusetts     4.8         RESORT\n",
       "1  HID_001         Boston  Massachuesetts     4.1          CHAIN\n",
       "2  HID_002  San Francisco      California     3.8          MOTEL\n",
       "3  HID_003  San Francisco      California     4.0          CHAIN\n",
       "4  HID_004  New York City        New York     3.7          MOTEL"
      ]
     },
     "execution_count": 2,
     "metadata": {},
     "output_type": "execute_result"
    }
   ],
   "source": [
    "real_data['hotels'].head()"
   ]
  },
  {
   "cell_type": "code",
   "execution_count": 3,
   "id": "2f11bde8",
   "metadata": {},
   "outputs": [
    {
     "data": {
      "text/html": [
       "<div>\n",
       "<style scoped>\n",
       "    .dataframe tbody tr th:only-of-type {\n",
       "        vertical-align: middle;\n",
       "    }\n",
       "\n",
       "    .dataframe tbody tr th {\n",
       "        vertical-align: top;\n",
       "    }\n",
       "\n",
       "    .dataframe thead th {\n",
       "        text-align: right;\n",
       "    }\n",
       "</style>\n",
       "<table border=\"1\" class=\"dataframe\">\n",
       "  <thead>\n",
       "    <tr style=\"text-align: right;\">\n",
       "      <th></th>\n",
       "      <th>guest_email</th>\n",
       "      <th>hotel_id</th>\n",
       "      <th>has_rewards</th>\n",
       "      <th>room_type</th>\n",
       "      <th>amenities_fee</th>\n",
       "      <th>checkin_date</th>\n",
       "      <th>checkout_date</th>\n",
       "      <th>room_rate</th>\n",
       "      <th>billing_address</th>\n",
       "      <th>credit_card_number</th>\n",
       "    </tr>\n",
       "  </thead>\n",
       "  <tbody>\n",
       "    <tr>\n",
       "      <th>0</th>\n",
       "      <td>awolf@phillips.com</td>\n",
       "      <td>HID_000</td>\n",
       "      <td>False</td>\n",
       "      <td>BASIC</td>\n",
       "      <td>37.89</td>\n",
       "      <td>27 Dec 2020</td>\n",
       "      <td>28 Dec 2020</td>\n",
       "      <td>156.23</td>\n",
       "      <td>993 Rebecca Landing\\nJesseburgh, PA 05072</td>\n",
       "      <td>4075084747483975747</td>\n",
       "    </tr>\n",
       "    <tr>\n",
       "      <th>1</th>\n",
       "      <td>tonya44@wilkinson-wilkins.com</td>\n",
       "      <td>HID_000</td>\n",
       "      <td>False</td>\n",
       "      <td>BASIC</td>\n",
       "      <td>24.37</td>\n",
       "      <td>30 Dec 2020</td>\n",
       "      <td>31 Dec 2020</td>\n",
       "      <td>139.43</td>\n",
       "      <td>958 Beverly Bypass\\nSouth Ronald, GA 46368</td>\n",
       "      <td>180072822063468</td>\n",
       "    </tr>\n",
       "    <tr>\n",
       "      <th>2</th>\n",
       "      <td>harriskathleen@goodwin.com</td>\n",
       "      <td>HID_000</td>\n",
       "      <td>True</td>\n",
       "      <td>DELUXE</td>\n",
       "      <td>0.00</td>\n",
       "      <td>17 Sep 2020</td>\n",
       "      <td>19 Sep 2020</td>\n",
       "      <td>403.33</td>\n",
       "      <td>8302 Nathaniel Pike\\nRileyland, TX 71613</td>\n",
       "      <td>38983476971380</td>\n",
       "    </tr>\n",
       "    <tr>\n",
       "      <th>3</th>\n",
       "      <td>kayladiaz@wallace-simmons.com</td>\n",
       "      <td>HID_000</td>\n",
       "      <td>False</td>\n",
       "      <td>BASIC</td>\n",
       "      <td>NaN</td>\n",
       "      <td>28 Dec 2020</td>\n",
       "      <td>30 Dec 2020</td>\n",
       "      <td>140.61</td>\n",
       "      <td>77 Massachusetts Ave\\nCambridge, MA 02139</td>\n",
       "      <td>4969551998845740</td>\n",
       "    </tr>\n",
       "    <tr>\n",
       "      <th>4</th>\n",
       "      <td>paigemendoza@tran-martin.com</td>\n",
       "      <td>HID_000</td>\n",
       "      <td>True</td>\n",
       "      <td>DELUXE</td>\n",
       "      <td>0.00</td>\n",
       "      <td>05 Apr 2020</td>\n",
       "      <td>10 Apr 2020</td>\n",
       "      <td>197.41</td>\n",
       "      <td>1234 Corporate Drive\\nBoston, MA 02116</td>\n",
       "      <td>3558512986488983</td>\n",
       "    </tr>\n",
       "  </tbody>\n",
       "</table>\n",
       "</div>"
      ],
      "text/plain": [
       "                     guest_email hotel_id  has_rewards room_type  \\\n",
       "0             awolf@phillips.com  HID_000        False     BASIC   \n",
       "1  tonya44@wilkinson-wilkins.com  HID_000        False     BASIC   \n",
       "2     harriskathleen@goodwin.com  HID_000         True    DELUXE   \n",
       "3  kayladiaz@wallace-simmons.com  HID_000        False     BASIC   \n",
       "4   paigemendoza@tran-martin.com  HID_000         True    DELUXE   \n",
       "\n",
       "   amenities_fee checkin_date checkout_date  room_rate  \\\n",
       "0          37.89  27 Dec 2020   28 Dec 2020     156.23   \n",
       "1          24.37  30 Dec 2020   31 Dec 2020     139.43   \n",
       "2           0.00  17 Sep 2020   19 Sep 2020     403.33   \n",
       "3            NaN  28 Dec 2020   30 Dec 2020     140.61   \n",
       "4           0.00  05 Apr 2020   10 Apr 2020     197.41   \n",
       "\n",
       "                              billing_address   credit_card_number  \n",
       "0   993 Rebecca Landing\\nJesseburgh, PA 05072  4075084747483975747  \n",
       "1  958 Beverly Bypass\\nSouth Ronald, GA 46368      180072822063468  \n",
       "2    8302 Nathaniel Pike\\nRileyland, TX 71613       38983476971380  \n",
       "3   77 Massachusetts Ave\\nCambridge, MA 02139     4969551998845740  \n",
       "4      1234 Corporate Drive\\nBoston, MA 02116     3558512986488983  "
      ]
     },
     "execution_count": 3,
     "metadata": {},
     "output_type": "execute_result"
    }
   ],
   "source": [
    "real_data['guests'].head()"
   ]
  },
  {
   "cell_type": "markdown",
   "id": "a7885f22",
   "metadata": {},
   "source": [
    "## Generating Synthetic Data"
   ]
  },
  {
   "cell_type": "code",
   "execution_count": 4,
   "id": "c99f78e7",
   "metadata": {},
   "outputs": [
    {
     "name": "stderr",
     "output_type": "stream",
     "text": [
      "Preprocess Tables: 100%|█████████████████████████████████████████████████████████████████| 2/2 [00:00<00:00,  8.56it/s]\n"
     ]
    },
    {
     "name": "stdout",
     "output_type": "stream",
     "text": [
      "\n",
      "Learning relationships:\n"
     ]
    },
    {
     "name": "stderr",
     "output_type": "stream",
     "text": [
      "(1/1) Tables 'hotels' and 'guests' ('hotel_id'): 100%|█████████████████████████████████| 10/10 [00:01<00:00,  6.10it/s]\n"
     ]
    },
    {
     "name": "stdout",
     "output_type": "stream",
     "text": [
      "\n"
     ]
    },
    {
     "name": "stderr",
     "output_type": "stream",
     "text": [
      "Modeling Tables: 100%|███████████████████████████████████████████████████████████████████| 1/1 [00:01<00:00,  1.19s/it]\n"
     ]
    }
   ],
   "source": [
    "from sdv.multi_table import HMASynthesizer\n",
    "\n",
    "synthesizer = HMASynthesizer(metadata)\n",
    "synthesizer.fit(real_data)"
   ]
  },
  {
   "cell_type": "code",
   "execution_count": 5,
   "id": "fe363240",
   "metadata": {},
   "outputs": [],
   "source": [
    "synthetic_data = synthesizer.sample(scale=2)"
   ]
  },
  {
   "cell_type": "code",
   "execution_count": 6,
   "id": "10e7ac8b",
   "metadata": {},
   "outputs": [
    {
     "data": {
      "text/html": [
       "<div>\n",
       "<style scoped>\n",
       "    .dataframe tbody tr th:only-of-type {\n",
       "        vertical-align: middle;\n",
       "    }\n",
       "\n",
       "    .dataframe tbody tr th {\n",
       "        vertical-align: top;\n",
       "    }\n",
       "\n",
       "    .dataframe thead th {\n",
       "        text-align: right;\n",
       "    }\n",
       "</style>\n",
       "<table border=\"1\" class=\"dataframe\">\n",
       "  <thead>\n",
       "    <tr style=\"text-align: right;\">\n",
       "      <th></th>\n",
       "      <th>hotel_id</th>\n",
       "      <th>city</th>\n",
       "      <th>state</th>\n",
       "      <th>rating</th>\n",
       "      <th>classification</th>\n",
       "    </tr>\n",
       "  </thead>\n",
       "  <tbody>\n",
       "    <tr>\n",
       "      <th>0</th>\n",
       "      <td>HID_000</td>\n",
       "      <td>Austin</td>\n",
       "      <td>California</td>\n",
       "      <td>3.9</td>\n",
       "      <td>CHAIN</td>\n",
       "    </tr>\n",
       "    <tr>\n",
       "      <th>1</th>\n",
       "      <td>HID_001</td>\n",
       "      <td>Boston</td>\n",
       "      <td>California</td>\n",
       "      <td>4.3</td>\n",
       "      <td>RESORT</td>\n",
       "    </tr>\n",
       "    <tr>\n",
       "      <th>2</th>\n",
       "      <td>HID_002</td>\n",
       "      <td>Austin</td>\n",
       "      <td>California</td>\n",
       "      <td>4.6</td>\n",
       "      <td>CHAIN</td>\n",
       "    </tr>\n",
       "  </tbody>\n",
       "</table>\n",
       "</div>"
      ],
      "text/plain": [
       "  hotel_id    city       state  rating classification\n",
       "0  HID_000  Austin  California     3.9          CHAIN\n",
       "1  HID_001  Boston  California     4.3         RESORT\n",
       "2  HID_002  Austin  California     4.6          CHAIN"
      ]
     },
     "execution_count": 6,
     "metadata": {},
     "output_type": "execute_result"
    }
   ],
   "source": [
    "synthetic_data['hotels'].head(3)"
   ]
  },
  {
   "cell_type": "code",
   "execution_count": 7,
   "id": "6755d3ee",
   "metadata": {},
   "outputs": [
    {
     "data": {
      "text/html": [
       "<div>\n",
       "<style scoped>\n",
       "    .dataframe tbody tr th:only-of-type {\n",
       "        vertical-align: middle;\n",
       "    }\n",
       "\n",
       "    .dataframe tbody tr th {\n",
       "        vertical-align: top;\n",
       "    }\n",
       "\n",
       "    .dataframe thead th {\n",
       "        text-align: right;\n",
       "    }\n",
       "</style>\n",
       "<table border=\"1\" class=\"dataframe\">\n",
       "  <thead>\n",
       "    <tr style=\"text-align: right;\">\n",
       "      <th></th>\n",
       "      <th>guest_email</th>\n",
       "      <th>hotel_id</th>\n",
       "      <th>has_rewards</th>\n",
       "      <th>room_type</th>\n",
       "      <th>amenities_fee</th>\n",
       "      <th>checkin_date</th>\n",
       "      <th>checkout_date</th>\n",
       "      <th>room_rate</th>\n",
       "      <th>billing_address</th>\n",
       "      <th>credit_card_number</th>\n",
       "    </tr>\n",
       "  </thead>\n",
       "  <tbody>\n",
       "    <tr>\n",
       "      <th>0</th>\n",
       "      <td>moodyeric@example.net</td>\n",
       "      <td>HID_000</td>\n",
       "      <td>False</td>\n",
       "      <td>BASIC</td>\n",
       "      <td>28.69</td>\n",
       "      <td>17 Sep 2020</td>\n",
       "      <td>14 Sep 2020</td>\n",
       "      <td>96.57</td>\n",
       "      <td>PSC 4273, Box 0888\\nAPO AA 28423</td>\n",
       "      <td>5161033759518983</td>\n",
       "    </tr>\n",
       "    <tr>\n",
       "      <th>1</th>\n",
       "      <td>coryguzman@example.com</td>\n",
       "      <td>HID_000</td>\n",
       "      <td>False</td>\n",
       "      <td>BASIC</td>\n",
       "      <td>2.62</td>\n",
       "      <td>21 Apr 2020</td>\n",
       "      <td>28 Apr 2020</td>\n",
       "      <td>108.67</td>\n",
       "      <td>417 Lawrence Hollow\\nEast Ericshire, IN 65660</td>\n",
       "      <td>4133047413145475690</td>\n",
       "    </tr>\n",
       "    <tr>\n",
       "      <th>2</th>\n",
       "      <td>caitlinlee@example.net</td>\n",
       "      <td>HID_000</td>\n",
       "      <td>False</td>\n",
       "      <td>BASIC</td>\n",
       "      <td>3.25</td>\n",
       "      <td>27 Sep 2020</td>\n",
       "      <td>03 Oct 2020</td>\n",
       "      <td>121.35</td>\n",
       "      <td>69754 Mcguire Haven Apt. 260\\nCrawfordside, IN...</td>\n",
       "      <td>4977328103788</td>\n",
       "    </tr>\n",
       "  </tbody>\n",
       "</table>\n",
       "</div>"
      ],
      "text/plain": [
       "              guest_email hotel_id  has_rewards room_type  amenities_fee  \\\n",
       "0   moodyeric@example.net  HID_000        False     BASIC          28.69   \n",
       "1  coryguzman@example.com  HID_000        False     BASIC           2.62   \n",
       "2  caitlinlee@example.net  HID_000        False     BASIC           3.25   \n",
       "\n",
       "  checkin_date checkout_date  room_rate  \\\n",
       "0  17 Sep 2020   14 Sep 2020      96.57   \n",
       "1  21 Apr 2020   28 Apr 2020     108.67   \n",
       "2  27 Sep 2020   03 Oct 2020     121.35   \n",
       "\n",
       "                                     billing_address   credit_card_number  \n",
       "0                   PSC 4273, Box 0888\\nAPO AA 28423     5161033759518983  \n",
       "1      417 Lawrence Hollow\\nEast Ericshire, IN 65660  4133047413145475690  \n",
       "2  69754 Mcguire Haven Apt. 260\\nCrawfordside, IN...        4977328103788  "
      ]
     },
     "execution_count": 7,
     "metadata": {},
     "output_type": "execute_result"
    }
   ],
   "source": [
    "synthetic_data['guests'].head(3)"
   ]
  },
  {
   "cell_type": "markdown",
   "id": "f4c32b34",
   "metadata": {},
   "source": [
    "## Evaluating Data"
   ]
  },
  {
   "cell_type": "code",
   "execution_count": 8,
   "id": "5e15b0ea",
   "metadata": {},
   "outputs": [
    {
     "name": "stdout",
     "output_type": "stream",
     "text": [
      "Generating report ...\n",
      "(1/3) Evaluating Data Validity: : 100%|██████████████████████████████████████████████| 15/15 [00:00<00:00, 1363.71it/s]\n",
      "(2/3) Evaluating Data Structure: : 100%|████████████████████████████████████████████████| 2/2 [00:00<00:00, 400.03it/s]\n",
      "(3/3) Evaluating Relationship Validity: : 100%|█████████████████████████████████████████| 1/1 [00:00<00:00, 250.02it/s]\n",
      "\n",
      "Overall Score: 100.0%\n",
      "\n",
      "Properties:\n",
      "- Data Validity: 100.0%\n",
      "- Data Structure: 100.0%\n",
      "- Relationship Validity: 100.0%\n"
     ]
    }
   ],
   "source": [
    "from sdv.evaluation.multi_table import run_diagnostic\n",
    "\n",
    "diagnostic = run_diagnostic(\n",
    "    real_data=real_data,\n",
    "    synthetic_data=synthetic_data,\n",
    "    metadata=metadata\n",
    ")"
   ]
  },
  {
   "cell_type": "markdown",
   "id": "ee065b42",
   "metadata": {},
   "source": [
    "## Visualizing the Data"
   ]
  },
  {
   "cell_type": "code",
   "execution_count": 9,
   "id": "cff5e5ba",
   "metadata": {},
   "outputs": [
    {
     "data": {
      "text/html": [
       "<iframe\n",
       "    scrolling=\"no\"\n",
       "    width=\"100%\"\n",
       "    height=\"545px\"\n",
       "    src=\"iframe_figures/figure_9.html\"\n",
       "    frameborder=\"0\"\n",
       "    allowfullscreen\n",
       "></iframe>\n"
      ]
     },
     "metadata": {},
     "output_type": "display_data"
    }
   ],
   "source": [
    "from sdv.evaluation.multi_table import get_column_plot\n",
    "\n",
    "fig = get_column_plot(\n",
    "    real_data=real_data,\n",
    "    synthetic_data=synthetic_data,\n",
    "    column_name='has_rewards',\n",
    "    table_name='guests',\n",
    "    metadata=metadata\n",
    ")\n",
    "\n",
    "fig.show()"
   ]
  }
 ],
 "metadata": {
  "kernelspec": {
   "display_name": "Python 3 (ipykernel)",
   "language": "python",
   "name": "python3"
  },
  "language_info": {
   "codemirror_mode": {
    "name": "ipython",
    "version": 3
   },
   "file_extension": ".py",
   "mimetype": "text/x-python",
   "name": "python",
   "nbconvert_exporter": "python",
   "pygments_lexer": "ipython3",
   "version": "3.11.5"
  }
 },
 "nbformat": 4,
 "nbformat_minor": 5
}
